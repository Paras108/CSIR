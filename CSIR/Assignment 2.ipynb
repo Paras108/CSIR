{
 "cells": [
  {
   "cell_type": "markdown",
   "metadata": {},
   "source": [
    "# PROJECT 3: Assignment 2\n",
    "\n",
    "###### Submitted By:\n",
    "<table style=\"float:left\">\n",
    "    <tr>\n",
    "        <th style=\"text-align:left\"><b>Name</b></th> \n",
    "        <th style=\"text-align:center\">Paras Kaushik</th>\n",
    "    </tr>\n",
    "    <tr>\n",
    "        <th style=\"text-align:left\"><b>Application Number</b></th> \n",
    "        <th style=\"text-align:center\">4085303</th>\n",
    "    </tr>\n",
    "    <tr>\n",
    "        <th style=\"text-align:left\"><b>Acknowledge Number</b></th>\n",
    "        <th style=\"text-align:center\">3244</th>\n",
    "    </tr>\n",
    "    <tr>\n",
    "        <th style=\"text-align:left\"><b>Micronutrients</b></th>\n",
    "        <th style=\"text-align:center\">Vitamin: A, B, C, D, E, K</th>\n",
    "    </tr>\n",
    "</table>"
   ]
  },
  {
   "cell_type": "markdown",
   "metadata": {},
   "source": [
    "<hr style=\"width:100%;height:2px;text-align:left;margin-left:0; background-color:black\">"
   ]
  },
  {
   "cell_type": "markdown",
   "metadata": {},
   "source": [
    "## Github Link"
   ]
  },
  {
   "cell_type": "markdown",
   "metadata": {},
   "source": [
    "<hr style=\"width:100%;height:2px;text-align:left;margin-left:0; background-color:black\">"
   ]
  },
  {
   "cell_type": "markdown",
   "metadata": {},
   "source": [
    "## Dataset"
   ]
  },
  {
   "cell_type": "code",
   "execution_count": null,
   "metadata": {},
   "outputs": [],
   "source": []
  },
  {
   "cell_type": "markdown",
   "metadata": {},
   "source": [
    "## Objective\n",
    "\n",
    "#### This program is utilized to fetch the list of protiens associated with different Vitamins from uniprot database. Details of the methods are provided."
   ]
  },
  {
   "cell_type": "markdown",
   "metadata": {},
   "source": [
    "<hr style=\"width:100%;height:2px;text-align:left;margin-left:0; background-color:black\">"
   ]
  },
  {
   "cell_type": "markdown",
   "metadata": {},
   "source": [
    "## Functionality\n",
    "\n",
    "### Call dbFetch to extract vitamin information (related protien, gene etc.) from open databases \n",
    "<b>dbFetch.uniprot (vitList)</b>: This function is fetch Protiens and Genes realted to Vitamins.\n",
    "<ul>\n",
    "    <li>vitList: Vitamin list as parameters. Default list is ['A','B','C','D','E','K']</li>\n",
    "</ul> "
   ]
  },
  {
   "cell_type": "markdown",
   "metadata": {},
   "source": [
    "<hr style=\"width:100%;height:2px;text-align:left;margin-left:0; background-color:black\">"
   ]
  },
  {
   "cell_type": "markdown",
   "metadata": {},
   "source": [
    "## Code"
   ]
  },
  {
   "cell_type": "markdown",
   "metadata": {},
   "source": [
    "### Importing required libraries"
   ]
  },
  {
   "cell_type": "code",
   "execution_count": 1,
   "metadata": {},
   "outputs": [],
   "source": [
    "# Importing requests for programmatic access to databases through APIs\n",
    "import requests\n",
    "\n",
    "# Importing pandas for dataframe operations\n",
    "import pandas as pd"
   ]
  },
  {
   "cell_type": "code",
   "execution_count": 4,
   "metadata": {},
   "outputs": [],
   "source": [
    "# Class implementation of dbFetch\n",
    "class dbFetch:\n",
    "    def __init__(self, vitList):\n",
    "        self.vitList = vitList\n",
    "\n",
    "    # Function to fetch data from uniprot\n",
    "    def uniprot(vitList=['A','B','C','D','E','K']):\n",
    "        df = pd.DataFrame()\n",
    "        for i in vitList:\n",
    "            url = 'https://www.uniprot.org/uniprot/?query=\"vitamin+'+i+'\"+AND+organism:9606&sort=score&columns=protein names,genes,length&format=tab'\n",
    "            response = requests.get(url)\n",
    "            df = df.append(pd.DataFrame([x.split('\\t') for x in response.text.split('\\n')][1:]), ignore_index=True)\n",
    "        df.columns = ['Protien Names','Genes','Length']\n",
    "        return df"
   ]
  },
  {
   "cell_type": "markdown",
   "metadata": {},
   "source": [
    "### UniProt\n",
    "\n",
    "UniProt is a freely accessible database of protein sequence and functional information, many entries being derived from genome sequencing projects.\n",
    "\n",
    "https://www.uniprot.org/"
   ]
  },
  {
   "cell_type": "markdown",
   "metadata": {},
   "source": [
    "#### Fetching Protiens"
   ]
  },
  {
   "cell_type": "code",
   "execution_count": 6,
   "metadata": {},
   "outputs": [],
   "source": [
    "# Fetching protein details for vitamin A and vitamin C\n",
    "vitA_C = dbFetch.uniprot(['A','C'])\n",
    "\n",
    "# Fetching protein details for all the vitamins\n",
    "vitAll = dbFetch.uniprot()\n",
    "\n",
    "# Writing the pytochemical dataframe to a csv file\n",
    "vitAll.to_csv('data/protien.csv', index=False)"
   ]
  },
  {
   "cell_type": "markdown",
   "metadata": {},
   "source": [
    "<hr style=\"width:100%;height:2px;text-align:left;margin-left:0; background-color:black\">"
   ]
  }
 ],
 "metadata": {
  "kernelspec": {
   "display_name": "Python 3",
   "language": "python",
   "name": "python3"
  },
  "language_info": {
   "codemirror_mode": {
    "name": "ipython",
    "version": 3
   },
   "file_extension": ".py",
   "mimetype": "text/x-python",
   "name": "python",
   "nbconvert_exporter": "python",
   "pygments_lexer": "ipython3",
   "version": "3.6.6"
  }
 },
 "nbformat": 4,
 "nbformat_minor": 2
}
